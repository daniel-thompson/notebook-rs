{
 "cells": [
  {
   "cell_type": "markdown",
   "id": "b3bf4bef",
   "metadata": {},
   "source": [
    "# Thompson's Incomplete Rust Notebook"
   ]
  },
  {
   "cell_type": "markdown",
   "id": "71a11bde",
   "metadata": {},
   "source": [
    "## Closures"
   ]
  },
  {
   "cell_type": "markdown",
   "id": "29030f50",
   "metadata": {},
   "source": [
    "### Cloning without renaming\n",
    "\n",
    "TODO"
   ]
  },
  {
   "cell_type": "markdown",
   "id": "0a60efed",
   "metadata": {},
   "source": [
    "## Non-const static initializers"
   ]
  },
  {
   "cell_type": "markdown",
   "id": "235480d6",
   "metadata": {},
   "source": [
    "### Pure standard library\n",
    "\n",
    "The once_cell crate has been merged into the standard library. This allows us to create macros to cover common use-cases such as JIT compiling a regex. This macro also allows a more fluid approach to using regular expression (because the fact we are pre-compiling it is hidden at the point of use)."
   ]
  },
  {
   "cell_type": "code",
   "execution_count": 24,
   "id": "9e88b781",
   "metadata": {},
   "outputs": [],
   "source": [
    ":dep regex\n",
    "\n",
    "/// Compile a regex once and at the point-of-first use.\n",
    "///\n",
    "/// Takes string literal and return an expression that evaluates to &'static Regex\n",
    "///\n",
    "/// It is a standard library port of an example provides in the once_cell crate:\n",
    "/// https://docs.rs/once_cell/latest/once_cell/#lazily-compiled-regex\n",
    "///\n",
    "/// # Examples\n",
    "///\n",
    "/// ```\n",
    "/// let ln = \"[ 0.873163] usb 10-1.1.2.4: SerialNumber: 0x0001\";\n",
    "/// let match = regex!(r\"^\\[ *([0-9.]+)] usb ([0-9-.]+): (.*)$\").captures(ln)\n",
    "/// ```\n",
    "macro_rules! regex {\n",
    "    ($re:literal $(,)?) => {{\n",
    "        static RE: std::sync::OnceLock<regex::Regex> = std::sync::OnceLock::new();\n",
    "        RE.get_or_init(|| regex::Regex::new($re).unwrap())\n",
    "    }};\n",
    "}"
   ]
  },
  {
   "cell_type": "markdown",
   "id": "7c3fb854",
   "metadata": {},
   "source": [
    "#### Examples"
   ]
  },
  {
   "cell_type": "code",
   "execution_count": 26,
   "id": "58f42f6e",
   "metadata": {},
   "outputs": [
    {
     "data": {
      "text/plain": [
       "Some(Captures({0: 0..48/\"[ 0.873163] usb 10-1.1.2.4: SerialNumber: 0x0001\", 1: 2..10/\"0.873163\", 2: 16..26/\"10-1.1.2.4\", 3: 28..48/\"SerialNumber: 0x0001\"}))"
      ]
     },
     "execution_count": 26,
     "metadata": {},
     "output_type": "execute_result"
    }
   ],
   "source": [
    "let ln = \"[ 0.873163] usb 10-1.1.2.4: SerialNumber: 0x0001\";\n",
    "\n",
    "regex!(r\"^\\[ *([0-9.]+)] usb ([0-9-.]+): (.*)$\").captures(ln)"
   ]
  },
  {
   "cell_type": "markdown",
   "id": "d07e1847",
   "metadata": {},
   "source": [
    "### crate: lazy_static\n",
    "\n",
    "TODO"
   ]
  },
  {
   "cell_type": "markdown",
   "id": "a6b43102",
   "metadata": {},
   "source": [
    "### crate: once_cell\n",
    "\n",
    "The [once_cell](https://docs.rs/once_cell) crate has been partially merged into the standard library. The low-level plumbing is present in stable but the [easy to use utilitity code](https://doc.rust-lang.org/std/cell/struct.LazyCell.html) is [still unstable](https://github.com/rust-lang/rust/issues/109736).\n",
    "\n",
    "The utility code implements a similar use case as the lazy_static!() macro but without the macro! Note that the example below uses a regex since it is easy to read. However be aware that there are other, more elegant ways, to handle regular expressions using OnceCell/OnceLock (see above)."
   ]
  },
  {
   "cell_type": "code",
   "execution_count": 4,
   "id": "e90deac9",
   "metadata": {},
   "outputs": [],
   "source": [
    ":dep regex\n",
    ":dep once_cell\n",
    "\n",
    "use once_cell::sync::Lazy;\n",
    "\n",
    "static RE: Lazy<regex::Regex> = Lazy::new(|| {\n",
    "    regex::Regex::new(r\"^\\[ *([0-9.]+)] usb ([0-9-.]+): (.*)$\").unwrap()\n",
    "});"
   ]
  },
  {
   "cell_type": "markdown",
   "id": "9aa63247",
   "metadata": {},
   "source": [
    "#### Examples"
   ]
  },
  {
   "cell_type": "code",
   "execution_count": 8,
   "id": "c0bc0e90",
   "metadata": {},
   "outputs": [
    {
     "data": {
      "text/plain": [
       "Some(Captures({0: 0..48/\"[ 0.873163] usb 10-1.1.2.4: SerialNumber: 0x0001\", 1: 2..10/\"0.873163\", 2: 16..26/\"10-1.1.2.4\", 3: 28..48/\"SerialNumber: 0x0001\"}))"
      ]
     },
     "execution_count": 8,
     "metadata": {},
     "output_type": "execute_result"
    }
   ],
   "source": [
    "RE.captures(\"[ 0.873163] usb 10-1.1.2.4: SerialNumber: 0x0001\")"
   ]
  },
  {
   "cell_type": "markdown",
   "id": "dab97232",
   "metadata": {},
   "source": [
    "### crate: static_init"
   ]
  },
  {
   "cell_type": "markdown",
   "id": "76eca68a",
   "metadata": {},
   "source": [
    "## Interesting templates"
   ]
  },
  {
   "cell_type": "markdown",
   "id": "90383066",
   "metadata": {},
   "source": [
    "### Application wide CLI arguments\n",
    "\n",
    "Using crates such as static_init (or similar less heavily optimized crates such as lazy_static) we are able to parse the arguments on first access and access them via a shared immutable global variable anywhere in the application.\n",
    "\n",
    "The jury is still out on whether this is a pattern or an anti-pattern. I generally only use lazy_static and friends for const-like data such as pre-compiled regular expressions. Sometimes it iss hard to decide if command line arguments, which should never change for the duration of a program, are const-like or not! Either way, it certainly needs to be used with taste and restraint."
   ]
  },
  {
   "cell_type": "code",
   "execution_count": 2,
   "id": "a3569c6f",
   "metadata": {},
   "outputs": [],
   "source": [
    ":dep clap = { features = [\"derive\"] }\n",
    ":dep static_init\n",
    "\n",
    "use clap::Parser;\n",
    "use static_init::dynamic;\n",
    "\n",
    "#[derive(Parser)]\n",
    "#[command(author, version, about, long_about = None)]\n",
    "pub struct Args {\n",
    "    /// Turn debugging information on\n",
    "    #[arg(short, long, action = clap::ArgAction::Count)]\n",
    "    pub verbose: u8,\n",
    "}\n",
    "\n",
    "// If you prefer lazy_static ARGS could have been spelled:\n",
    "//   lazy_static! {\n",
    "//       pub static ref ARGS: Args = Args::parse();\n",
    "//   }\n",
    "#[dynamic]\n",
    "pub static ARGS: Args = Args::parse();\n",
    "\n",
    "fn main() {\n",
    "    println!(\"{}\", ARGS.verbose);\n",
    "}"
   ]
  },
  {
   "cell_type": "markdown",
   "id": "be0f6b68",
   "metadata": {},
   "source": [
    "### Regex pattern extraction\n",
    "\n",
    "This is a great little pattern for extracting matching lines of text and robustly extracting fields from them. Fields can be fully parsed or returned as raw string slices and, in the later case, are zerop-copy.\n",
    "\n",
    "This code comes for the [Linaro Developer Services keynote](https://resources.linaro.org/en/resource/6ttLWXTBe7VazbNBK1g1QW) at Linaro Connect 2023. The presentation consists of multiple speakers covering a variety of topics. The Rust material starts at 23:28."
   ]
  },
  {
   "cell_type": "code",
   "execution_count": 3,
   "id": "edf4849f",
   "metadata": {},
   "outputs": [],
   "source": [
    ":dep lazy_static\n",
    ":dep regex\n",
    "\n",
    "use lazy_static::lazy_static;\n",
    "use regex::Regex;\n",
    "\n",
    "fn parse_usb_msg(ln: &str) -> Option<(f64, &str, &str)> {\n",
    "  lazy_static! {\n",
    "    static ref RE: Regex = Regex::new(\n",
    "      //  [   0.873163] usb 10-1.1.2.4: SerialNumber: 0x0001\n",
    "      r\"^\\[ *([0-9.]+)] usb ([0-9-.]+): (.*)$\").unwrap();\n",
    "  }\n",
    "\n",
    "  let fields = RE.captures(ln)?;\n",
    "  let tstamp = fields\n",
    "      .get(1)?\n",
    "      .as_str()\n",
    "      .parse()\n",
    "      .ok()?;\n",
    "  let path = fields.get(2)?.as_str();\n",
    "  let msg = fields.get(3)?.as_str();\n",
    "\n",
    "  Some((tstamp, path, msg))\n",
    "}"
   ]
  },
  {
   "cell_type": "markdown",
   "id": "2b1beea6",
   "metadata": {},
   "source": [
    "#### Examples"
   ]
  },
  {
   "cell_type": "code",
   "execution_count": 4,
   "id": "afafbe8f",
   "metadata": {},
   "outputs": [
    {
     "data": {
      "text/plain": [
       "Some((0.873163, \"10-1.1.2.4\", \"SerialNumber: 0x0001\"))"
      ]
     },
     "execution_count": 4,
     "metadata": {},
     "output_type": "execute_result"
    }
   ],
   "source": [
    "parse_usb_msg(\"[ 0.873163] usb 10-1.1.2.4: SerialNumber: 0x0001\")"
   ]
  },
  {
   "cell_type": "code",
   "execution_count": 5,
   "id": "0687c348",
   "metadata": {},
   "outputs": [
    {
     "data": {
      "text/plain": [
       "None"
      ]
     },
     "execution_count": 5,
     "metadata": {},
     "output_type": "execute_result"
    }
   ],
   "source": [
    "parse_usb_msg(\"[ 0.873163] usb XX-X.X.X.X: SerialNumber: 0x0001\")"
   ]
  }
 ],
 "metadata": {
  "kernelspec": {
   "display_name": "Rust",
   "language": "rust",
   "name": "rust"
  },
  "language_info": {
   "codemirror_mode": "rust",
   "file_extension": ".rs",
   "mimetype": "text/rust",
   "name": "Rust",
   "pygment_lexer": "rust",
   "version": ""
  }
 },
 "nbformat": 4,
 "nbformat_minor": 5
}
